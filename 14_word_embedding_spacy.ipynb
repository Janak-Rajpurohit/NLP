{
 "cells": [
  {
   "cell_type": "code",
   "execution_count": 4,
   "metadata": {},
   "outputs": [
    {
     "name": "stdout",
     "output_type": "stream",
     "text": [
      "\u001b[38;5;2m✔ Download and installation successful\u001b[0m\n",
      "You can now load the package via spacy.load('en_core_web_lg')\n",
      "None\n"
     ]
    }
   ],
   "source": [
    "import spacy \n",
    "from spacy.cli import download\n",
    "# for acessing word embedding in spacy lib we need to load large ,medium model\n",
    "print(download(\"en_core_web_lg\"))"
   ]
  },
  {
   "cell_type": "code",
   "execution_count": 5,
   "metadata": {},
   "outputs": [
    {
     "name": "stdout",
     "output_type": "stream",
     "text": [
      "dog Vector True OOV False\n",
      "ate Vector True OOV False\n",
      "banana Vector True OOV False\n",
      "janak Vector False OOV True\n"
     ]
    }
   ],
   "source": [
    "nlp = spacy.load(\"en_core_web_lg\")\n",
    "doc = nlp(\"dog ate banana janak\")\n",
    "\n",
    "for token in doc:\n",
    "    # it didn't recognize janak so it does has vector for it and hence it is oov\n",
    "    print(f\"{token.text} Vector {token.has_vector} OOV {token.is_oov}\")"
   ]
  },
  {
   "cell_type": "code",
   "execution_count": 7,
   "metadata": {},
   "outputs": [
    {
     "data": {
      "text/plain": [
       "(300,)"
      ]
     },
     "execution_count": 7,
     "metadata": {},
     "output_type": "execute_result"
    }
   ],
   "source": [
    "doc[0].vector.shape   #300 dimension vector"
   ]
  },
  {
   "cell_type": "code",
   "execution_count": 8,
   "metadata": {},
   "outputs": [
    {
     "data": {
      "text/plain": [
       "(300,)"
      ]
     },
     "execution_count": 8,
     "metadata": {},
     "output_type": "execute_result"
    }
   ],
   "source": [
    "# sentence vector is avg of individual word vector\n",
    "base_token = nlp(\"bread\")\n",
    "base_token.vector.shape"
   ]
  },
  {
   "cell_type": "code",
   "execution_count": 14,
   "metadata": {},
   "outputs": [
    {
     "data": {
      "text/plain": [
       "spacy.tokens.doc.Doc"
      ]
     },
     "execution_count": 14,
     "metadata": {},
     "output_type": "execute_result"
    }
   ],
   "source": [
    "type(base_token)"
   ]
  },
  {
   "cell_type": "code",
   "execution_count": 13,
   "metadata": {},
   "outputs": [
    {
     "name": "stdout",
     "output_type": "stream",
     "text": [
      "bread <-> bread - 0.9999999744752309\n",
      "sandwich <-> bread - 0.634106782477101\n",
      "burger <-> bread - 0.4752069113758708\n",
      "car <-> bread - 0.06451533308853552\n",
      "tiger <-> bread - 0.04764611675903374\n",
      "human <-> bread - 0.2151154210812192\n",
      "wheat <-> bread - 0.6150360888607199\n"
     ]
    }
   ],
   "source": [
    "doc = nlp(\"bread sandwich burger car tiger human wheat\")\n",
    "\n",
    "for token in doc:\n",
    "    print(f\"{token.text} <-> {base_token.text} - {token.similarity(base_token)}\")\n",
    "    # bread and sandwich,burger,wheat are much more similar "
   ]
  },
  {
   "cell_type": "code",
   "execution_count": 18,
   "metadata": {},
   "outputs": [
    {
     "name": "stdout",
     "output_type": "stream",
     "text": [
      "apple <-> iphone = 0.4387907748060368\n",
      "samsung <-> iphone = 0.670859081425417\n",
      "burger <-> iphone = 0.07762209460815223\n",
      "phone <-> iphone = 0.729336356768957\n",
      "bread <-> iphone = 0.13758431689572845\n"
     ]
    }
   ],
   "source": [
    "def print_similarity(base_word,words):\n",
    "    base_word = nlp(base_word)\n",
    "    doc = nlp(words)\n",
    "    for token in doc:\n",
    "        print(f\"{token.text} <-> {base_word.text} = {token.similarity(base_word)}\")\n",
    "print_similarity(\"iphone\",\"apple samsung burger phone bread\")\n",
    "# it can consisder apple as a fruit or it is trained on google new where people tends to more compare iphone and samsung rather than apple and iphone"
   ]
  },
  {
   "cell_type": "code",
   "execution_count": 30,
   "metadata": {},
   "outputs": [],
   "source": [
    "king = nlp.vocab[\"king\"].vector\n",
    "queen = nlp.vocab[\"queen\"].vector\n",
    "man = nlp.vocab[\"man\"].vector\n",
    "woman = nlp.vocab[\"woman\"].vector\n",
    "result = king - man + woman "
   ]
  },
  {
   "cell_type": "code",
   "execution_count": 31,
   "metadata": {},
   "outputs": [
    {
     "data": {
      "text/plain": [
       "array([[0.6178014]], dtype=float32)"
      ]
     },
     "execution_count": 31,
     "metadata": {},
     "output_type": "execute_result"
    }
   ],
   "source": [
    "from sklearn.metrics.pairwise import cosine_similarity\n",
    "cosine_similarity([result],[queen])"
   ]
  },
  {
   "cell_type": "code",
   "execution_count": null,
   "metadata": {},
   "outputs": [],
   "source": []
  }
 ],
 "metadata": {
  "kernelspec": {
   "display_name": "Python 3",
   "language": "python",
   "name": "python3"
  },
  "language_info": {
   "codemirror_mode": {
    "name": "ipython",
    "version": 3
   },
   "file_extension": ".py",
   "mimetype": "text/x-python",
   "name": "python",
   "nbconvert_exporter": "python",
   "pygments_lexer": "ipython3",
   "version": "3.10.11"
  }
 },
 "nbformat": 4,
 "nbformat_minor": 2
}
